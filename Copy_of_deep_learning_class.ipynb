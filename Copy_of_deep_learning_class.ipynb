{
  "nbformat": 4,
  "nbformat_minor": 0,
  "metadata": {
    "colab": {
      "provenance": []
    },
    "kernelspec": {
      "name": "python3",
      "display_name": "Python 3"
    },
    "language_info": {
      "name": "python"
    }
  },
  "cells": [
    {
      "cell_type": "code",
      "execution_count": null,
      "metadata": {
        "id": "ETDKK0HOzwpN"
      },
      "outputs": [],
      "source": [
        "import tensorflow as tf\n",
        "from tensorflow import keras\n",
        "from tensorflow.keras import layers\n",
        "\n",
        "class BasicDeepLearning:\n",
        "    def __init__(self, input_shape, num_classes):\n",
        "        self.input_shape = input_shape\n",
        "        self.num_classes = num_classes\n",
        "        self.model = self.build_model()\n",
        "\n",
        "    def build_model(self):\n",
        "        model = keras.Sequential([\n",
        "            layers.Flatten(input_shape=self.input_shape),\n",
        "            layers.Dense(128, activation='relu'),\n",
        "            layers.Dense(64, activation='relu'),\n",
        "            layers.Dense(self.num_classes, activation='softmax')\n",
        "        ])\n",
        "        model.compile(optimizer='adam',\n",
        "                      loss='sparse_categorical_crossentropy',\n",
        "                      metrics=['accuracy'])\n",
        "        return model\n",
        "\n",
        "    def train(self, x_train, y_train, epochs=10, batch_size=32, validation_data=None):\n",
        "        return self.model.fit(x_train, y_train, epochs=epochs, batch_size=batch_size, validation_data=validation_data)\n",
        "\n",
        "    def evaluate(self, x_test, y_test):\n",
        "        return self.model.evaluate(x_test, y_test)\n",
        "\n",
        "    def predict(self, x_input):\n",
        "        return self.model.predict(x_input)\n",
        "\n",
        "# Example usage:\n",
        "# deep_learning_model = BasicDeepLearning(input_shape=(28, 28), num_classes=10)\n",
        "# deep_learning_model.train(x_train, y_train, epochs=5, validation_data=(x_test, y_test))\n",
        "# deep_learning_model.evaluate(x_test, y_test)\n"
      ]
    },
    {
      "cell_type": "code",
      "source": [],
      "metadata": {
        "id": "Gp4C3lxe0bu-"
      },
      "execution_count": null,
      "outputs": []
    },
    {
      "cell_type": "markdown",
      "source": [
        " Example usage:\n",
        "# deep_learning_model = BasicDeepLearning(input_shape=(28, 28), num_classes=10)\n",
        "# deep_learning_model.train(x_train, y_train, epochs=5, validation_data=(x_test, y_test))\n",
        "# deep_learning_model.evaluate(x_test, y_test)\n"
      ],
      "metadata": {
        "id": "D36qgSpZ0cLz"
      }
    },
    {
      "cell_type": "code",
      "source": [],
      "metadata": {
        "id": "2Wjfpp0az_Wg"
      },
      "execution_count": null,
      "outputs": []
    },
    {
      "cell_type": "code",
      "source": [],
      "metadata": {
        "id": "x5fSwLKTz8BL"
      },
      "execution_count": null,
      "outputs": []
    },
    {
      "cell_type": "markdown",
      "source": [],
      "metadata": {
        "id": "eE_3BDjhz8YR"
      }
    },
    {
      "cell_type": "code",
      "source": [],
      "metadata": {
        "id": "TpE6EjAAz5F9"
      },
      "execution_count": null,
      "outputs": []
    },
    {
      "cell_type": "markdown",
      "source": [],
      "metadata": {
        "id": "qf3X35W1z5X6"
      }
    }
  ]
}